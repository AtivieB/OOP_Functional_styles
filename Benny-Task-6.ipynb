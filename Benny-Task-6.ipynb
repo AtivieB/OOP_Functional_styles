{
 "cells": [
  {
   "cell_type": "markdown",
   "id": "9e692ea2-bcea-40c8-bd83-573f3a79ea76",
   "metadata": {},
   "source": [
    "### Q1:\n",
    "Given an array arr containing only 0s, 1s, and 2s. Sort the array in ascending order."
   ]
  },
  {
   "cell_type": "code",
   "execution_count": 18,
   "id": "9f1583f5-dc7c-4ef3-893c-d2e6e02e1d18",
   "metadata": {},
   "outputs": [
    {
     "name": "stdout",
     "output_type": "stream",
     "text": [
      "[0, 0, 1, 2, 2]\n"
     ]
    }
   ],
   "source": [
    "class Solution:\n",
    "    # Function to sort an array of 0s, 1s, and 2s\n",
    "    def sort012(self, arr):\n",
    "        low = 0\n",
    "        mid = 0\n",
    "        high = len(arr) - 1\n",
    "\n",
    "        # Traverse the array and sort the elements\n",
    "        while mid <= high:\n",
    "            if arr[mid] == 0:\n",
    "                arr[low], arr[mid] = arr[mid], arr[low]  # Swap 0 to the front\n",
    "                low += 1\n",
    "                mid += 1\n",
    "            elif arr[mid] == 1:\n",
    "                mid += 1  # Leave 1 in place\n",
    "            else:\n",
    "                arr[mid], arr[high] = arr[high], arr[mid]  # Swap 2 to the back\n",
    "                high -= 1\n",
    "\n",
    "\n",
    "# Testing...\n",
    "solution = Solution()\n",
    "\n",
    "arr1 = [0, 2, 1, 2, 0]\n",
    "solution.sort012(arr1)\n",
    "print(arr1)  # Output: [0, 0, 1, 2, 2]"
   ]
  },
  {
   "cell_type": "markdown",
   "id": "d945d29d-76fd-4d3f-87aa-35e724a720cd",
   "metadata": {},
   "source": [
    "### Q2\n",
    "Given a sorted array arr and an integer k, find the position(0-based indexing) at which k is present in the array using binary search."
   ]
  },
  {
   "cell_type": "code",
   "execution_count": 21,
   "id": "b6d9231e-c69d-4a8f-8428-f59edd9cda0a",
   "metadata": {},
   "outputs": [
    {
     "name": "stdout",
     "output_type": "stream",
     "text": [
      "3\n"
     ]
    }
   ],
   "source": [
    "class Solution:\n",
    "    # Function to perform binary search\n",
    "    def binarySearch(self, arr, k):\n",
    "        low = 0\n",
    "        high = len(arr) - 1\n",
    "        \n",
    "        # Perform binary search\n",
    "        while low <= high:\n",
    "            mid = (low + high) // 2  # Calculate middle index\n",
    "            \n",
    "            if arr[mid] == k:\n",
    "                return mid  # k found at index mid\n",
    "            elif arr[mid] < k:\n",
    "                low = mid + 1  # Search in the right half\n",
    "            else:\n",
    "                high = mid - 1  # Search in the left half\n",
    "        \n",
    "        return -1  # k not found in the array\n",
    "\n",
    "# Testing...\n",
    "solution = Solution()\n",
    "\n",
    "arr1 = [1, 2, 3, 4, 5]\n",
    "k1 = 4\n",
    "print(solution.binarySearch(arr1, k1))  # Output: 3"
   ]
  },
  {
   "cell_type": "code",
   "execution_count": null,
   "id": "cf563379-e626-4e1a-ad0b-b1e5efe8be52",
   "metadata": {},
   "outputs": [],
   "source": []
  }
 ],
 "metadata": {
  "kernelspec": {
   "display_name": "Python 3 (ipykernel)",
   "language": "python",
   "name": "python3"
  },
  "language_info": {
   "codemirror_mode": {
    "name": "ipython",
    "version": 3
   },
   "file_extension": ".py",
   "mimetype": "text/x-python",
   "name": "python",
   "nbconvert_exporter": "python",
   "pygments_lexer": "ipython3",
   "version": "3.11.7"
  }
 },
 "nbformat": 4,
 "nbformat_minor": 5
}
